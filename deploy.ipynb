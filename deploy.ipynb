{
 "cells": [
  {
   "cell_type": "code",
   "execution_count": null,
   "metadata": {},
   "outputs": [],
   "source": [
    "from flask import Flask, jsonify, request\n",
    "from werkzeug.utils import secure_filename\n",
    "from flask import render_template\n",
    "from flask import make_response\n",
    "from FruitsNeuralNetwork import FruitsNeuralNetwork\n",
    "import torch\n",
    "from time import time\n",
    "from PIL import Image\n",
    "import json\n",
    "import numpy as np\n",
    "\n",
    "# Consultar nombre del modelo\n",
    "json_params= open('params.json')\n",
    "params_dict = json.load(json_params)\n",
    "model_name = params_dict[\"model_name\"]\n",
    "\n",
    "# Cargamos el modelo\n",
    "model = FruitsNeuralNetwork()\n",
    "model.load_state_dict(torch.load(model_name))\n",
    "model.eval()\n",
    "\n",
    "# definimos la app\n",
    "app = Flask(__name__, template_folder='web',\n",
    "            static_url_path='/static',\n",
    "            static_folder='web/static',)\n",
    "\n",
    "@app.route(\"/\")\n",
    "def hello():\n",
    "    version=int(time());\n",
    "    return render_template(\"index.html\",\n",
    "                            version=version)\n",
    "\n",
    "@app.route('/analize', methods = ['POST', 'GET'])\n",
    "def upload_file():\n",
    "    # Validar que se esté subiendo algo\n",
    "    if request.method == 'POST':\n",
    "          # Recorremos los archivos\n",
    "          for i in request.files:\n",
    "                # Abrimos la imagen y la formateamos al tamaño adecuado\n",
    "                img = Image.open(request.files[i])\n",
    "                img.resize(100, 100)\n",
    "                img_tensor = np.asarray(img)\n",
    "                outputs = model(img_tensor)\n",
    "                return outputs\n",
    "if __name__ == \"__main__\":\n",
    "  app.run()"
   ]
  },
  {
   "cell_type": "code",
   "execution_count": null,
   "metadata": {},
   "outputs": [],
   "source": []
  }
 ],
 "metadata": {
  "interpreter": {
   "hash": "7f0f7063418cbd5a086cedac205e4209e59787a03837e8c4ea25e22ca5c5f913"
  },
  "kernelspec": {
   "display_name": "Python 3.9.7 64-bit ('fruits_env': conda)",
   "language": "python",
   "name": "python3"
  },
  "language_info": {
   "codemirror_mode": {
    "name": "ipython",
    "version": 3
   },
   "file_extension": ".py",
   "mimetype": "text/x-python",
   "name": "python",
   "nbconvert_exporter": "python",
   "pygments_lexer": "ipython3",
   "version": "3.9.7"
  },
  "orig_nbformat": 4
 },
 "nbformat": 4,
 "nbformat_minor": 2
}
